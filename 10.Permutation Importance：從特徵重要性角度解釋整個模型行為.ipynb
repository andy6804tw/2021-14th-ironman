{
 "cells": [
  {
   "cell_type": "markdown",
   "id": "283e9d97",
   "metadata": {},
   "source": [
    "## 使用 eli5 實作 PermutationImportance"
   ]
  },
  {
   "cell_type": "code",
   "execution_count": null,
   "id": "441ee6ff",
   "metadata": {
    "tags": []
   },
   "outputs": [],
   "source": [
    "from sklearn.datasets import fetch_california_housing\n",
    "from sklearn.model_selection import train_test_split\n",
    "from sklearn.ensemble import RandomForestRegressor\n",
    "import numpy as np\n",
    "\n",
    "# 載入加州地區房屋價格預測資料集\n",
    "data = fetch_california_housing()\n",
    "feature_names = np.array(data.feature_names)\n",
    "X, y = data.data, data.target\n",
    "\n",
    "# 切分資料集為訓練集和測試集\n",
    "X_train, X_test, y_train, y_test = train_test_split(X, y, random_state=42)\n",
    "\n",
    "# 訓練隨機森林迴歸模型\n",
    "model = RandomForestRegressor(random_state=0).fit(X_train, y_train)"
   ]
  },
  {
   "cell_type": "code",
   "execution_count": null,
   "id": "c8ed932b",
   "metadata": {
    "tags": []
   },
   "outputs": [],
   "source": [
    "from sklearn.metrics import mean_squared_error\n",
    "\n",
    "# 預測成功的比例\n",
    "print('訓練集: ',model.score(X_train,y_train))\n",
    "y_pred = model.predict(X_train)\n",
    "print(f'MSE: {mean_squared_error(y_train, y_pred)}')\n",
    "print('測試集: ',model.score(X_test,y_test))\n",
    "y_pred = model.predict(X_test)\n",
    "print(f'MSE: {mean_squared_error(y_test, y_pred)}')"
   ]
  },
  {
   "cell_type": "code",
   "execution_count": null,
   "id": "ed37e1be-7ad3-4d21-806a-f6b05e83cf42",
   "metadata": {
    "tags": []
   },
   "outputs": [],
   "source": [
    "!pip install -q eli5"
   ]
  },
  {
   "cell_type": "code",
   "execution_count": null,
   "id": "34929612",
   "metadata": {
    "tags": []
   },
   "outputs": [],
   "source": [
    "import eli5\n",
    "from eli5.sklearn import PermutationImportance\n",
    "\n",
    "model=model\n",
    "perm = PermutationImportance(model, random_state=42).fit(X_test, y_test)\n",
    "eli5.show_weights(perm, feature_names = feature_names, top=8)"
   ]
  },
  {
   "cell_type": "code",
   "execution_count": null,
   "id": "6320ad3f-31c7-4213-a261-155491e2a25c",
   "metadata": {},
   "outputs": [],
   "source": []
  }
 ],
 "metadata": {
  "kernelspec": {
   "display_name": "Python 3 (ipykernel)",
   "language": "python",
   "name": "python3"
  },
  "language_info": {
   "codemirror_mode": {
    "name": "ipython",
    "version": 3
   },
   "file_extension": ".py",
   "mimetype": "text/x-python",
   "name": "python",
   "nbconvert_exporter": "python",
   "pygments_lexer": "ipython3",
   "version": "3.11.4"
  }
 },
 "nbformat": 4,
 "nbformat_minor": 5
}
