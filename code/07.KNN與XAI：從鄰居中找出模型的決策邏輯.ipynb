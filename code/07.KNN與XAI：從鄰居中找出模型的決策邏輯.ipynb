{
 "cells": [
  {
   "cell_type": "markdown",
   "id": "0e5a5873",
   "metadata": {},
   "source": [
    "## KNN 的局部解釋性"
   ]
  },
  {
   "cell_type": "code",
   "execution_count": 1,
   "id": "aad8c3ac",
   "metadata": {},
   "outputs": [
    {
     "name": "stdout",
     "output_type": "stream",
     "text": [
      "訓練集:  0.9619047619047619\n",
      "測試集:  0.9555555555555556\n",
      "Sample belongs to class: 2\n",
      "Neighbors belong to classes: [2 2 2]\n",
      "Nearest neighbors: [[7.4 2.8 6.1 1.9]\n",
      " [7.2 3.2 6.  1.8]\n",
      " [7.6 3.  6.6 2.1]]\n"
     ]
    }
   ],
   "source": [
    "from sklearn.datasets import load_iris\n",
    "from sklearn.neighbors import KNeighborsClassifier\n",
    "from sklearn.model_selection import train_test_split\n",
    "import numpy as np\n",
    "\n",
    "# 載入鳶尾花朵資料集\n",
    "iris = load_iris()\n",
    "feature_names = np.array(iris.feature_names)\n",
    "X = iris.data\n",
    "y = iris.target\n",
    "\n",
    "# 切分訓練集與測試集\n",
    "X_train, X_test, y_train, y_test = train_test_split(X, y, test_size=0.3, random_state=42, stratify=y)\n",
    "\n",
    "# 訓練 KNN 分類器\n",
    "knnModel = KNeighborsClassifier(n_neighbors=3)\n",
    "knnModel.fit(X_train, y_train)\n",
    "\n",
    "# 評估模型的準確率\n",
    "print('訓練集: ',knnModel.score(X_train,y_train))\n",
    "print('測試集: ',knnModel.score(X_test,y_test))\n",
    "\n",
    "# 取得第一個測試樣本的最近的鄰居\n",
    "distances, indices = knnModel.kneighbors(X_test[[0]])\n",
    "\n",
    "# 局部解釋：顯示最近鄰居的類別和對應的特徵值\n",
    "print('Sample belongs to class:', y_test[0])\n",
    "print('Neighbors belong to classes:', y_train[indices[0]])\n",
    "print('Nearest neighbors:', X_train[indices[0]])"
   ]
  },
  {
   "cell_type": "code",
   "execution_count": null,
   "id": "160b621e",
   "metadata": {},
   "outputs": [],
   "source": []
  }
 ],
 "metadata": {
  "kernelspec": {
   "display_name": "Python 3 (ipykernel)",
   "language": "python",
   "name": "python3"
  },
  "language_info": {
   "codemirror_mode": {
    "name": "ipython",
    "version": 3
   },
   "file_extension": ".py",
   "mimetype": "text/x-python",
   "name": "python",
   "nbconvert_exporter": "python",
   "pygments_lexer": "ipython3",
   "version": "3.11.4"
  }
 },
 "nbformat": 4,
 "nbformat_minor": 5
}
