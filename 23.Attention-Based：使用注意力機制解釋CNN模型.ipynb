{
 "cells": [
  {
   "cell_type": "code",
   "execution_count": null,
   "id": "f1651c87",
   "metadata": {},
   "outputs": [],
   "source": [
    "!pip install -q tensorflow_addons\n",
    "!pip install -q vit_keras"
   ]
  },
  {
   "cell_type": "code",
   "execution_count": null,
   "id": "153b8b05",
   "metadata": {
    "tags": []
   },
   "outputs": [],
   "source": [
    "import numpy as np\n",
    "import matplotlib.pyplot as plt\n",
    "from vit_keras import vit, utils, visualize\n",
    "\n",
    "# 使用vit函數創建Vision Transformer模型\n",
    "image_size = 384 # 設定輸入圖像的大小為 384x384 像素\n",
    "model = vit.vit_b16(\n",
    "    image_size=image_size,\n",
    "    activation='sigmoid', # 輸出使用 sigmoid 激發函數\n",
    "    pretrained=True, # 使用預訓練權重\n",
    "    include_top=True, # 包括頂部（分類層）\n",
    "    pretrained_top=True # 使用預訓練的頂部權重\n",
    ")\n",
    "# 取得 ImageNet 分類的類別\n",
    "classes = utils.get_imagenet_classes()"
   ]
  },
  {
   "cell_type": "code",
   "execution_count": null,
   "id": "2bb137b8",
   "metadata": {},
   "outputs": [],
   "source": [
    "url = 'https://upload.wikimedia.org/wikipedia/commons/b/bc/Free%21_%283987584939%29.jpg'\n",
    "image = utils.read(url, image_size) # 載入圖片\n",
    "x = np.expand_dims(image.copy(), axis=0) # 將圖像轉換為模型可接受的維度\n",
    "x = vit.preprocess_inputs(x) # 預處理圖像\n",
    "# 進行圖像分類預測\n",
    "pred_proba = model.predict(x) # 返回分類機率\n",
    "# 解析預測結果\n",
    "pred_class = pred_proba[0].argmax() # 取得預測標籤索引\n",
    "predicted_class_name = classes[pred_class] # 取得預測標籤名稱\n",
    "print('Prediction:', predicted_class_name)  "
   ]
  },
  {
   "cell_type": "code",
   "execution_count": null,
   "id": "663de879",
   "metadata": {},
   "outputs": [],
   "source": [
    "# 計算 Attention Rollout \n",
    "attention_map = visualize.attention_map(model=model, image=image)\n",
    "# 繪製結果\n",
    "fig, (ax1, ax2) = plt.subplots(ncols=2)\n",
    "ax1.axis('off')\n",
    "ax2.axis('off')\n",
    "ax1.set_title('Original')\n",
    "ax2.set_title('Attention Map')\n",
    "_ = ax1.imshow(image)\n",
    "_ = ax2.imshow(attention_map)"
   ]
  },
  {
   "cell_type": "code",
   "execution_count": null,
   "id": "086fd39f",
   "metadata": {},
   "outputs": [],
   "source": []
  }
 ],
 "metadata": {
  "kernelspec": {
   "display_name": "Python 3 (ipykernel)",
   "language": "python",
   "name": "python3"
  },
  "language_info": {
   "codemirror_mode": {
    "name": "ipython",
    "version": 3
   },
   "file_extension": ".py",
   "mimetype": "text/x-python",
   "name": "python",
   "nbconvert_exporter": "python",
   "pygments_lexer": "ipython3",
   "version": "3.11.4"
  }
 },
 "nbformat": 4,
 "nbformat_minor": 5
}
