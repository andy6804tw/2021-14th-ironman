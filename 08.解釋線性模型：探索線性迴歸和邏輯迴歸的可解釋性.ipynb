{
 "cells": [
  {
   "cell_type": "markdown",
   "id": "5d3b51dd-5813-4d0f-91ec-aadac36abf4f",
   "metadata": {},
   "source": [
    "## 線性迴歸：糖尿病預測"
   ]
  },
  {
   "cell_type": "code",
   "execution_count": 1,
   "id": "7613f63f",
   "metadata": {},
   "outputs": [],
   "source": [
    "from sklearn.datasets import load_diabetes\n",
    "from sklearn.model_selection import train_test_split\n",
    "\n",
    "# 載入Sklearn糖尿病預測資料集10個輸入特徵1個輸出\n",
    "diabetes = load_diabetes()\n",
    "X = diabetes.data # 輸入特徵\n",
    "y = diabetes.target # 輸出\n",
    "# 切分訓練集測試集\n",
    "X_train, X_test, y_train, y_test = train_test_split(X, y, test_size=0.2, random_state=42)"
   ]
  },
  {
   "cell_type": "code",
   "execution_count": 2,
   "id": "47f2f30e",
   "metadata": {},
   "outputs": [
    {
     "data": {
      "text/plain": [
       "LinearRegression()"
      ]
     },
     "execution_count": 2,
     "metadata": {},
     "output_type": "execute_result"
    }
   ],
   "source": [
    "from sklearn.linear_model import LinearRegression\n",
    "# 訓練模型\n",
    "linearModel = LinearRegression()\n",
    "linearModel.fit(X_train, y_train)"
   ]
  },
  {
   "cell_type": "code",
   "execution_count": 3,
   "id": "5d939531",
   "metadata": {},
   "outputs": [
    {
     "name": "stdout",
     "output_type": "stream",
     "text": [
      "[  37.90031426 -241.96624835  542.42575342  347.70830529 -931.46126093\n",
      "  518.04405547  163.40353476  275.31003837  736.18909839   48.67112488]\n",
      "151.3456553477407\n"
     ]
    }
   ],
   "source": [
    "# 取得10個特徵係數\n",
    "print(linearModel.coef_)\n",
    "# 取得截距\n",
    "print(linearModel.intercept_)"
   ]
  },
  {
   "cell_type": "markdown",
   "id": "bf745e80",
   "metadata": {},
   "source": [
    "## 邏輯迴歸 odds ratio"
   ]
  },
  {
   "cell_type": "code",
   "execution_count": 1,
   "id": "76377c38",
   "metadata": {
    "tags": []
   },
   "outputs": [
    {
     "data": {
      "text/plain": [
       "array([[ 0.65493676,  2.62983871,  0.08072293,  0.33933297],\n",
       "       [ 1.70631358,  0.72499522,  0.81332818,  0.38920531],\n",
       "       [ 0.89483257,  0.52448823, 15.23130932,  7.57173117]])"
      ]
     },
     "execution_count": 1,
     "metadata": {},
     "output_type": "execute_result"
    }
   ],
   "source": [
    "from sklearn.datasets import load_iris\n",
    "from sklearn.linear_model import LogisticRegression\n",
    "import numpy as np\n",
    "\n",
    "X, y = load_iris(return_X_y=True)\n",
    "# 建立Logistic模型\n",
    "logisticModel = LogisticRegression(random_state=0, max_iter=1000)\n",
    "# 使用訓練資料訓練模型\n",
    "logisticModel.fit(X, y)\n",
    "\n",
    "# 獲取截距和特徵係數\n",
    "intercept = logisticModel.intercept_\n",
    "coef = logisticModel.coef_\n",
    "\n",
    "# 將係數指數化得到 odds ratio\n",
    "odds_ratio = np.exp(coef)\n",
    "odds_ratio"
   ]
  },
  {
   "cell_type": "code",
   "execution_count": null,
   "id": "600640e9",
   "metadata": {},
   "outputs": [],
   "source": []
  }
 ],
 "metadata": {
  "kernelspec": {
   "display_name": "Python 3 (ipykernel)",
   "language": "python",
   "name": "python3"
  },
  "language_info": {
   "codemirror_mode": {
    "name": "ipython",
    "version": 3
   },
   "file_extension": ".py",
   "mimetype": "text/x-python",
   "name": "python",
   "nbconvert_exporter": "python",
   "pygments_lexer": "ipython3",
   "version": "3.11.4"
  }
 },
 "nbformat": 4,
 "nbformat_minor": 5
}
